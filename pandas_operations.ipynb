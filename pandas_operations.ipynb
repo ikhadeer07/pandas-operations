{
  "nbformat": 4,
  "nbformat_minor": 0,
  "metadata": {
    "colab": {
      "provenance": [],
      "authorship_tag": "ABX9TyPSOwOj+KTVvBNFwwlaS23Q",
      "include_colab_link": true
    },
    "kernelspec": {
      "name": "python3",
      "display_name": "Python 3"
    },
    "language_info": {
      "name": "python"
    }
  },
  "cells": [
    {
      "cell_type": "markdown",
      "metadata": {
        "id": "view-in-github",
        "colab_type": "text"
      },
      "source": [
        "<a href=\"https://colab.research.google.com/github/ikhadeer07/pandas-operations/blob/main/pandas_operations.ipynb\" target=\"_parent\"><img src=\"https://colab.research.google.com/assets/colab-badge.svg\" alt=\"Open In Colab\"/></a>"
      ]
    },
    {
      "cell_type": "code",
      "execution_count": null,
      "metadata": {
        "colab": {
          "base_uri": "https://localhost:8080/"
        },
        "id": "66xAKgh45Vzg",
        "outputId": "25050416-3ae4-4f7d-92e1-49beead197a9"
      },
      "outputs": [
        {
          "output_type": "stream",
          "name": "stdout",
          "text": [
            "         0\n",
            "0       Hi\n",
            "1     This\n",
            "2       is\n",
            "3  Khadeer\n",
            "4     from\n",
            "5   kadapa\n"
          ]
        }
      ],
      "source": [
        "# import pandas as pd\n",
        "import pandas as pd\n",
        " \n",
        "# list of strings\n",
        "lst = ['Hi', 'This', 'is', 'Khadeer', 'from', 'kadapa']\n",
        " \n",
        "# Calling DataFrame constructor on list\n",
        "df = pd.DataFrame(lst)\n",
        "print(df)"
      ]
    },
    {
      "cell_type": "code",
      "source": [
        "import pandas as pd\n",
        " \n",
        "# Define a dictionary containing employee data\n",
        "data = {'Name':['khadeer', 'Princi', 'bunty', 'Andrea'],'Qualification':['B.tech', 'M.tech', 'MCA', 'MBA']}\n",
        " \n",
        "# Convert the dictionary into DataFrame \n",
        "df = pd.DataFrame(data)\n",
        " \n",
        "# select two columns\n",
        "print(df[['Name', 'Qualification']])"
      ],
      "metadata": {
        "colab": {
          "base_uri": "https://localhost:8080/"
        },
        "id": "Ha9BgDxD6PeI",
        "outputId": "478dd0e1-90a7-48e0-efa2-f3f4aa672fca"
      },
      "execution_count": null,
      "outputs": [
        {
          "output_type": "stream",
          "name": "stdout",
          "text": [
            "      Name Qualification\n",
            "0  khadeer        B.tech\n",
            "1   Princi        M.tech\n",
            "2    bunty           MCA\n",
            "3   Andrea           MBA\n"
          ]
        }
      ]
    },
    {
      "cell_type": "code",
      "source": [
        "# Import pandas package\n",
        "import pandas as pd\n",
        "\n",
        "# Define a dictionary containing employee data\n",
        "data = {'Name':['khadeer', 'Princy', 'Bunty', 'Andrea'],\n",
        "\t\t'Age':[27, 24, 22, 32],\n",
        "\t\t'Address':['AndhraPradesh', 'Baghdad', 'Dhaka', 'Canberra'],\n",
        "\t\t'Qualification':['Msc', 'MA', 'MCA', 'Phd']}\n",
        "\n",
        "# Convert the dictionary into DataFrame\n",
        "df = pd.DataFrame(data)\n",
        "\n",
        "# select all rows\n",
        "# and second to fourth column\n",
        "df[df.columns[0:4]]\n"
      ],
      "metadata": {
        "colab": {
          "base_uri": "https://localhost:8080/",
          "height": 175
        },
        "id": "BpaQlY7e6qtb",
        "outputId": "36b0cc33-5473-428e-877e-6b6f76260dde"
      },
      "execution_count": null,
      "outputs": [
        {
          "output_type": "execute_result",
          "data": {
            "text/plain": [
              "      Name  Age        Address Qualification\n",
              "0  khadeer   27  AndhraPradesh           Msc\n",
              "1   Princy   24        Baghdad            MA\n",
              "2    Bunty   22          Dhaka           MCA\n",
              "3   Andrea   32       Canberra           Phd"
            ],
            "text/html": [
              "\n",
              "  <div id=\"df-d56fe2f5-2f01-4e76-8f00-a51378ba14c4\">\n",
              "    <div class=\"colab-df-container\">\n",
              "      <div>\n",
              "<style scoped>\n",
              "    .dataframe tbody tr th:only-of-type {\n",
              "        vertical-align: middle;\n",
              "    }\n",
              "\n",
              "    .dataframe tbody tr th {\n",
              "        vertical-align: top;\n",
              "    }\n",
              "\n",
              "    .dataframe thead th {\n",
              "        text-align: right;\n",
              "    }\n",
              "</style>\n",
              "<table border=\"1\" class=\"dataframe\">\n",
              "  <thead>\n",
              "    <tr style=\"text-align: right;\">\n",
              "      <th></th>\n",
              "      <th>Name</th>\n",
              "      <th>Age</th>\n",
              "      <th>Address</th>\n",
              "      <th>Qualification</th>\n",
              "    </tr>\n",
              "  </thead>\n",
              "  <tbody>\n",
              "    <tr>\n",
              "      <th>0</th>\n",
              "      <td>khadeer</td>\n",
              "      <td>27</td>\n",
              "      <td>AndhraPradesh</td>\n",
              "      <td>Msc</td>\n",
              "    </tr>\n",
              "    <tr>\n",
              "      <th>1</th>\n",
              "      <td>Princy</td>\n",
              "      <td>24</td>\n",
              "      <td>Baghdad</td>\n",
              "      <td>MA</td>\n",
              "    </tr>\n",
              "    <tr>\n",
              "      <th>2</th>\n",
              "      <td>Bunty</td>\n",
              "      <td>22</td>\n",
              "      <td>Dhaka</td>\n",
              "      <td>MCA</td>\n",
              "    </tr>\n",
              "    <tr>\n",
              "      <th>3</th>\n",
              "      <td>Andrea</td>\n",
              "      <td>32</td>\n",
              "      <td>Canberra</td>\n",
              "      <td>Phd</td>\n",
              "    </tr>\n",
              "  </tbody>\n",
              "</table>\n",
              "</div>\n",
              "      <button class=\"colab-df-convert\" onclick=\"convertToInteractive('df-d56fe2f5-2f01-4e76-8f00-a51378ba14c4')\"\n",
              "              title=\"Convert this dataframe to an interactive table.\"\n",
              "              style=\"display:none;\">\n",
              "        \n",
              "  <svg xmlns=\"http://www.w3.org/2000/svg\" height=\"24px\"viewBox=\"0 0 24 24\"\n",
              "       width=\"24px\">\n",
              "    <path d=\"M0 0h24v24H0V0z\" fill=\"none\"/>\n",
              "    <path d=\"M18.56 5.44l.94 2.06.94-2.06 2.06-.94-2.06-.94-.94-2.06-.94 2.06-2.06.94zm-11 1L8.5 8.5l.94-2.06 2.06-.94-2.06-.94L8.5 2.5l-.94 2.06-2.06.94zm10 10l.94 2.06.94-2.06 2.06-.94-2.06-.94-.94-2.06-.94 2.06-2.06.94z\"/><path d=\"M17.41 7.96l-1.37-1.37c-.4-.4-.92-.59-1.43-.59-.52 0-1.04.2-1.43.59L10.3 9.45l-7.72 7.72c-.78.78-.78 2.05 0 2.83L4 21.41c.39.39.9.59 1.41.59.51 0 1.02-.2 1.41-.59l7.78-7.78 2.81-2.81c.8-.78.8-2.07 0-2.86zM5.41 20L4 18.59l7.72-7.72 1.47 1.35L5.41 20z\"/>\n",
              "  </svg>\n",
              "      </button>\n",
              "      \n",
              "  <style>\n",
              "    .colab-df-container {\n",
              "      display:flex;\n",
              "      flex-wrap:wrap;\n",
              "      gap: 12px;\n",
              "    }\n",
              "\n",
              "    .colab-df-convert {\n",
              "      background-color: #E8F0FE;\n",
              "      border: none;\n",
              "      border-radius: 50%;\n",
              "      cursor: pointer;\n",
              "      display: none;\n",
              "      fill: #1967D2;\n",
              "      height: 32px;\n",
              "      padding: 0 0 0 0;\n",
              "      width: 32px;\n",
              "    }\n",
              "\n",
              "    .colab-df-convert:hover {\n",
              "      background-color: #E2EBFA;\n",
              "      box-shadow: 0px 1px 2px rgba(60, 64, 67, 0.3), 0px 1px 3px 1px rgba(60, 64, 67, 0.15);\n",
              "      fill: #174EA6;\n",
              "    }\n",
              "\n",
              "    [theme=dark] .colab-df-convert {\n",
              "      background-color: #3B4455;\n",
              "      fill: #D2E3FC;\n",
              "    }\n",
              "\n",
              "    [theme=dark] .colab-df-convert:hover {\n",
              "      background-color: #434B5C;\n",
              "      box-shadow: 0px 1px 3px 1px rgba(0, 0, 0, 0.15);\n",
              "      filter: drop-shadow(0px 1px 2px rgba(0, 0, 0, 0.3));\n",
              "      fill: #FFFFFF;\n",
              "    }\n",
              "  </style>\n",
              "\n",
              "      <script>\n",
              "        const buttonEl =\n",
              "          document.querySelector('#df-d56fe2f5-2f01-4e76-8f00-a51378ba14c4 button.colab-df-convert');\n",
              "        buttonEl.style.display =\n",
              "          google.colab.kernel.accessAllowed ? 'block' : 'none';\n",
              "\n",
              "        async function convertToInteractive(key) {\n",
              "          const element = document.querySelector('#df-d56fe2f5-2f01-4e76-8f00-a51378ba14c4');\n",
              "          const dataTable =\n",
              "            await google.colab.kernel.invokeFunction('convertToInteractive',\n",
              "                                                     [key], {});\n",
              "          if (!dataTable) return;\n",
              "\n",
              "          const docLinkHtml = 'Like what you see? Visit the ' +\n",
              "            '<a target=\"_blank\" href=https://colab.research.google.com/notebooks/data_table.ipynb>data table notebook</a>'\n",
              "            + ' to learn more about interactive tables.';\n",
              "          element.innerHTML = '';\n",
              "          dataTable['output_type'] = 'display_data';\n",
              "          await google.colab.output.renderOutput(dataTable, element);\n",
              "          const docLink = document.createElement('div');\n",
              "          docLink.innerHTML = docLinkHtml;\n",
              "          element.appendChild(docLink);\n",
              "        }\n",
              "      </script>\n",
              "    </div>\n",
              "  </div>\n",
              "  "
            ]
          },
          "metadata": {},
          "execution_count": 6
        }
      ]
    },
    {
      "cell_type": "code",
      "source": [
        "import numpy as np\n",
        "\n",
        "# create a dictionary of numpy arrays\n",
        "my_dict = {'A': np.array([1, 2, 3]), 'B': np.array([4, 5, 6]), 'C': np.array([7, 8, 9])}\n",
        "\n",
        "# select column 'B' from the dictionary\n",
        "selected_col = my_dict['B']\n",
        "\n",
        "# print the selected column\n",
        "print(selected_col)\n"
      ],
      "metadata": {
        "colab": {
          "base_uri": "https://localhost:8080/"
        },
        "id": "UofIM9q_8QdE",
        "outputId": "d104d73b-4131-4590-872a-edcaad6f967c"
      },
      "execution_count": null,
      "outputs": [
        {
          "output_type": "stream",
          "name": "stdout",
          "text": [
            "[4 5 6]\n"
          ]
        }
      ]
    },
    {
      "cell_type": "code",
      "source": [
        "import numpy as np\n",
        "\n",
        "# create a dictionary of numpy arrays\n",
        "my_dict = {'A': np.array([1, 2, 3]), 'B': np.array([4, 5, 6]), 'C': np.array([7, 8, 9])}\n",
        "\n",
        "# select row 1 from the dictionary\n",
        "selected_row = {key: arr[1] for key, arr in my_dict.items()}\n",
        "\n",
        "# print the selected row\n",
        "print(selected_row)\n"
      ],
      "metadata": {
        "colab": {
          "base_uri": "https://localhost:8080/"
        },
        "id": "3Un2CY7g895R",
        "outputId": "af0c119c-a5aa-433f-a86e-8073343afe49"
      },
      "execution_count": null,
      "outputs": [
        {
          "output_type": "stream",
          "name": "stdout",
          "text": [
            "{'A': 2, 'B': 5, 'C': 8}\n"
          ]
        }
      ]
    },
    {
      "cell_type": "code",
      "source": [
        "import pandas as pd\n",
        "\n",
        "# create a DataFrame\n",
        "df = pd.DataFrame({'A': [1, 2, 3], 'B': [4, 5, 6], 'C': [7, 8, 9]})\n",
        "\n",
        "# select row 1, column 2 using .iloc\n",
        "selected_value = df.iloc[1, 2]\n",
        "\n",
        "# print the selected value\n",
        "print(selected_value)\n"
      ],
      "metadata": {
        "colab": {
          "base_uri": "https://localhost:8080/"
        },
        "id": "bnYAew3B9kRc",
        "outputId": "c02e00c4-cb48-4946-bd22-630063907e17"
      },
      "execution_count": null,
      "outputs": [
        {
          "output_type": "stream",
          "name": "stdout",
          "text": [
            "8\n"
          ]
        }
      ]
    },
    {
      "cell_type": "code",
      "source": [
        "import pandas as pd\n",
        "\n",
        "# create a DataFrame\n",
        "df = pd.DataFrame({'A': [1, 2, 3], 'B': [4, 5, 6], 'C': [7, 8, 9]}, index=['row1', 'row2', 'row3'])\n",
        "\n",
        "# select row with index label 'row2', column with label 'B' using .loc\n",
        "selected_value = df.loc['row2', 'B']\n",
        "\n",
        "# print the selected value\n",
        "print(selected_value)\n"
      ],
      "metadata": {
        "colab": {
          "base_uri": "https://localhost:8080/"
        },
        "id": "Tn-lei6k98-M",
        "outputId": "5a04d994-e3fb-4048-c464-c7edebf283ac"
      },
      "execution_count": null,
      "outputs": [
        {
          "output_type": "stream",
          "name": "stdout",
          "text": [
            "5\n"
          ]
        }
      ]
    },
    {
      "cell_type": "code",
      "source": [
        "import pandas as pd\n",
        "import numpy as np\n",
        "\n",
        "# create a DataFrame with some missing values\n",
        "df = pd.DataFrame({'A': [1, 2, np.nan], 'B': [4, np.nan, 6], 'C': [np.nan, 8, 9]})\n",
        "\n",
        "# check for missing values using .isnull()\n",
        "print(df.isnull())\n",
        "\n",
        "# check for non-missing values using .notnull()\n",
        "print(df.notnull())\n"
      ],
      "metadata": {
        "colab": {
          "base_uri": "https://localhost:8080/"
        },
        "id": "mmjjIJrM-LFN",
        "outputId": "c140bcd6-c9ef-4212-fe29-ac4ee0454e70"
      },
      "execution_count": null,
      "outputs": [
        {
          "output_type": "stream",
          "name": "stdout",
          "text": [
            "       A      B      C\n",
            "0  False  False   True\n",
            "1  False   True  False\n",
            "2   True  False  False\n",
            "       A      B      C\n",
            "0   True   True  False\n",
            "1   True  False   True\n",
            "2  False   True   True\n"
          ]
        }
      ]
    },
    {
      "cell_type": "code",
      "source": [
        "import pandas as pd\n",
        "import numpy as np\n",
        "\n",
        "# create a DataFrame with some missing values\n",
        "df = pd.DataFrame({'A': [1, 2, np.nan, 4], 'B': [5, np.nan, np.nan, 8], 'C': [9, 10, 11, np.nan]})\n",
        "\n",
        "# fill missing values with a specified value using .fillna()\n",
        "df_filled = df.fillna(0)\n",
        "print(df_filled)\n",
        "\n",
        "# fill missing values with the mean of the column using .fillna()\n",
        "df_mean = df.fillna(df.mean())\n",
        "print(df_mean)\n",
        "\n",
        "# replace specific values with another value using .replace()\n",
        "df_replace = df.replace(np.nan, -1)\n",
        "print(df_replace)\n",
        "\n",
        "# fill missing values with interpolated values using .interpolate()\n",
        "df_interpolated = df.interpolate()\n",
        "print(df_interpolated)\n"
      ],
      "metadata": {
        "colab": {
          "base_uri": "https://localhost:8080/"
        },
        "id": "lhAxMvdk-nVa",
        "outputId": "944dc623-c9a1-4b05-d06e-578506d9bba3"
      },
      "execution_count": null,
      "outputs": [
        {
          "output_type": "stream",
          "name": "stdout",
          "text": [
            "     A    B     C\n",
            "0  1.0  5.0   9.0\n",
            "1  2.0  0.0  10.0\n",
            "2  0.0  0.0  11.0\n",
            "3  4.0  8.0   0.0\n",
            "          A    B     C\n",
            "0  1.000000  5.0   9.0\n",
            "1  2.000000  6.5  10.0\n",
            "2  2.333333  6.5  11.0\n",
            "3  4.000000  8.0  10.0\n",
            "     A    B     C\n",
            "0  1.0  5.0   9.0\n",
            "1  2.0 -1.0  10.0\n",
            "2 -1.0 -1.0  11.0\n",
            "3  4.0  8.0  -1.0\n",
            "     A    B     C\n",
            "0  1.0  5.0   9.0\n",
            "1  2.0  6.0  10.0\n",
            "2  3.0  7.0  11.0\n",
            "3  4.0  8.0  11.0\n"
          ]
        }
      ]
    },
    {
      "cell_type": "code",
      "source": [
        "import pandas as pd\n",
        "import numpy as np\n",
        "\n",
        "# create a DataFrame with some missing values\n",
        "df = pd.DataFrame({'A': [1, 2, np.nan, 4], 'B': [5, np.nan, np.nan, 8], 'C': [9, 10, 11, np.nan]})\n",
        "\n",
        "# drop rows with missing values using .dropna()\n",
        "df_dropped = df.dropna()\n",
        "print(df_dropped)\n"
      ],
      "metadata": {
        "colab": {
          "base_uri": "https://localhost:8080/"
        },
        "id": "_TlQu6SN-9T_",
        "outputId": "69fd90d0-e869-4d4e-e8c3-6a21471328ed"
      },
      "execution_count": null,
      "outputs": [
        {
          "output_type": "stream",
          "name": "stdout",
          "text": [
            "     A    B    C\n",
            "0  1.0  5.0  9.0\n"
          ]
        }
      ]
    }
  ]
}